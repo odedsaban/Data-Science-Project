{
 "cells": [
  {
   "cell_type": "code",
   "execution_count": 21,
   "metadata": {},
   "outputs": [],
   "source": [
    "import time \n",
    "import os      \n",
    "import requests\n",
    "import bs4\n",
    "from bs4 import BeautifulSoup  \n",
    "import pandas as pd\n",
    "import scipy as sc\n",
    "import numpy as np\n",
    "from datetime import datetime"
   ]
  },
  {
   "cell_type": "code",
   "execution_count": 22,
   "metadata": {},
   "outputs": [],
   "source": [
    "def load_page(url, headers = \"\"):\n",
    "    ## returned the table from the page\n",
    "    req = requests.get(url+headers)\n",
    "    htmlCode = BeautifulSoup(req.content, 'html.parser')\n",
    "    return htmlCode    \n",
    "def load_page_table(htmlCode):\n",
    "    table = htmlCode.find('table', attrs={'class':'table'}).find('tbody')\n",
    "    return table\n",
    "def get_table_rows(table):\n",
    "    rows = table.find_all('tr')\n",
    "    return rows\n",
    "def getNextPageUrl(htmlCode):\n",
    "    basicUrl = 'https://www.ad.co.il'\n",
    "    if(htmlCode.find('li',attrs={'class': 'nextPage'}) != None):\n",
    "        urlQueries = htmlCode.find('li',attrs={'class': 'nextPage'}).a['href'].strip()\n",
    "    else:\n",
    "        return False\n",
    "    if(urlQueries):\n",
    "        return 'https://www.ad.co.il'+ htmlCode.find('li',attrs={'class': 'nextPage'}).a['href'].strip()\n",
    "    else:\n",
    "        return False\n"
   ]
  },
  {
   "cell_type": "code",
   "execution_count": 23,
   "metadata": {},
   "outputs": [],
   "source": [
    "def load_city_data(name,startYear,endYear,monthDeals,rooms = 4):\n",
    "    ## Get deals for current city - 10 deals for each year between startYear and endYear\n",
    "    ## \n",
    "    rowsDates = []\n",
    "    rowsCitys = []\n",
    "    rowsStreets = []\n",
    "    rowsSurfaces = []\n",
    "    rowsRooms = []\n",
    "    rowsFloors = []\n",
    "    rowsPrices = []\n",
    "    rowsPricesPerSq = []\n",
    "    rowsBuilgingsYears = []\n",
    "    rowsDealMonth = []\n",
    "    rowsDealYear = []\n",
    "    for year in range(startYear, endYear+1):\n",
    "        currentPageUrl = 'https://www.ad.co.il/nadlanprice?year='+str(year)+'%2C'+str(year)+'&city='+name\n",
    "        currentPageHtml = load_page(currentPageUrl);\n",
    "        currentTable = load_page_table(currentPageHtml)\n",
    "        rows = get_table_rows(currentTable)\n",
    "        for month in range(12,0,-1):\n",
    "            monthDealsCounter = 0\n",
    "            while(monthDealsCounter < monthDeals):\n",
    "                \n",
    "                for row in rows:\n",
    "                    date_time_str = row.select('td')[0].text\n",
    "                    date_time_obj = datetime.strptime(date_time_str, '%d/%m/%Y')\n",
    "                    if(date_time_obj.month == month and row.select('td')[4].text.strip()):\n",
    "                        monthDealsCounter+=1\n",
    "                        ##append row \n",
    "                        rowsDates.append(row.select('td')[0].text)\n",
    "                        rowsCitys.append(name)\n",
    "                        rowsStreets.append(row.select('td')[2].text)\n",
    "                        rowsRooms.append(row.select('td')[3].text)\n",
    "                        rowsSurfaces.append(row.select('td')[4].text)\n",
    "                        rowsFloors.append(row.select('td')[5].text)\n",
    "                        rowsPrices.append(row.select('td')[6].text)\n",
    "                        rowsPricesPerSq.append(row.select('td')[7].text)\n",
    "                        rowsBuilgingsYears.append(row.select('td')[8].text)\n",
    "                        rowsDealMonth.append(date_time_obj.month)\n",
    "                        rowsDealYear.append(date_time_obj.year)\n",
    "                        if(monthDealsCounter == monthDeals):\n",
    "                            break\n",
    "                if(monthDealsCounter < monthDeals):\n",
    "                    #get next page rows\n",
    "                    tempUrlRequest = getNextPageUrl(currentPageHtml)\n",
    "                    if(tempUrlRequest):\n",
    "                        currentPageUrl = getNextPageUrl(currentPageHtml)\n",
    "                        currentPageHtml = load_page(currentPageUrl)\n",
    "                        currentTable = load_page_table(currentPageHtml)\n",
    "                        rows = get_table_rows(currentTable)\n",
    "                    else:\n",
    "                        break\n",
    "    df_city_deals = pd.DataFrame({'DealYear':rowsDealYear,'DealMonth': rowsDealMonth,'Date': rowsDates,'City':rowsCitys,'Street': rowsStreets,'Rooms':rowsRooms,'Surface':rowsSurfaces\n",
    "                                 ,'Floor':rowsFloors,'Price':rowsPrices,'PricePerSq':rowsPricesPerSq,'BuildYear': rowsBuilgingsYears})\n",
    "    return df_city_deals\n",
    "\n",
    "    "
   ]
  },
  {
   "cell_type": "code",
   "execution_count": 24,
   "metadata": {},
   "outputs": [],
   "source": [
    "##df = load_city_data('tel-aviv',2010,2020,10)\n",
    "##print ('finished')\n",
    "def load_data():\n",
    "    citiesList=['rishon-lezion','tel-aviv','ramat-gan','petah-tikva','bnei-brakh','holon','bat-yam','givatayim','beer-yaakov','rehovot']\n",
    "    monthDeals = 30\n",
    "    endYear = 2020\n",
    "    startYear = 2020\n",
    "    allDf= pd.DataFrame({'Date': [],'City':[],'Street': [],'Rooms':[],'Surface':[]\n",
    "                                 ,'Floor':[],'Price':[],'PricePerSq':[],'BuildYear': []})\n",
    "    for city in citiesList:\n",
    "        print(city,' start')\n",
    "        cityDf = load_city_data(city,startYear,endYear,monthDeals)\n",
    "        allDf.append(cityDf,ignore_index = True)\n",
    "        allDf = pd.concat([allDf,cityDf],ignore_index=True)\n",
    "        print(city,' done')\n",
    "        print(\" ------------------ \")\n",
    "    fileName = 'data-v' + time.strftime(\"%H-%M-%S-%d-%m-%y\")\n",
    "    allDf.to_csv('data/'+fileName + '.csv', encoding = \"ISO-8859-8\")\n",
    "    return fileName"
   ]
  },
  {
   "cell_type": "code",
   "execution_count": 25,
   "metadata": {},
   "outputs": [
    {
     "name": "stdout",
     "output_type": "stream",
     "text": [
      "rishon-lezion  start\n",
      "rishon-lezion  done\n",
      " ------------------ \n",
      "tel-aviv  start\n",
      "tel-aviv  done\n",
      " ------------------ \n",
      "ramat-gan  start\n",
      "ramat-gan  done\n",
      " ------------------ \n",
      "petah-tikva  start\n",
      "petah-tikva  done\n",
      " ------------------ \n",
      "bnei-brakh  start\n",
      "bnei-brakh  done\n",
      " ------------------ \n",
      "holon  start\n",
      "holon  done\n",
      " ------------------ \n",
      "bat-yam  start\n",
      "bat-yam  done\n",
      " ------------------ \n",
      "givatayim  start\n",
      "givatayim  done\n",
      " ------------------ \n",
      "beer-yaakov  start\n",
      "beer-yaakov  done\n",
      " ------------------ \n",
      "rehovot  start\n",
      "rehovot  done\n",
      " ------------------ \n",
      "Finished - the data set is ready : data/data-v18-26-37-16-06-21.csv\n"
     ]
    }
   ],
   "source": [
    "fileName = load_data()\n",
    "print ('Finished - the data set is ready : data/'+ fileName +'.csv')"
   ]
  },
  {
   "cell_type": "code",
   "execution_count": null,
   "metadata": {},
   "outputs": [],
   "source": []
  },
  {
   "cell_type": "code",
   "execution_count": null,
   "metadata": {},
   "outputs": [],
   "source": []
  },
  {
   "cell_type": "code",
   "execution_count": null,
   "metadata": {
    "scrolled": true
   },
   "outputs": [],
   "source": []
  },
  {
   "cell_type": "code",
   "execution_count": null,
   "metadata": {},
   "outputs": [],
   "source": []
  },
  {
   "cell_type": "code",
   "execution_count": null,
   "metadata": {},
   "outputs": [],
   "source": []
  },
  {
   "cell_type": "code",
   "execution_count": null,
   "metadata": {},
   "outputs": [],
   "source": []
  }
 ],
 "metadata": {
  "kernelspec": {
   "display_name": "Python 3",
   "language": "python",
   "name": "python3"
  },
  "language_info": {
   "codemirror_mode": {
    "name": "ipython",
    "version": 3
   },
   "file_extension": ".py",
   "mimetype": "text/x-python",
   "name": "python",
   "nbconvert_exporter": "python",
   "pygments_lexer": "ipython3",
   "version": "3.8.5"
  }
 },
 "nbformat": 4,
 "nbformat_minor": 4
}
