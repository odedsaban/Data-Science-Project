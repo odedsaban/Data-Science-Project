{
 "cells": [
  {
   "cell_type": "code",
   "execution_count": 57,
   "metadata": {},
   "outputs": [],
   "source": [
    "import numpy as np\n",
    "import pandas as pd\n",
    "import matplotlib.pyplot as plt\n",
    "import seaborn as sns\n",
    "import matplotlib as mpl\n",
    "import matplotlib.pyplot as plt\n",
    "%matplotlib inline\n",
    "import warnings\n",
    "import time\n",
    "from datetime import datetime\n",
    "warnings.filterwarnings('ignore')\n",
    "plt.close(\"all\")"
   ]
  },
  {
   "cell_type": "code",
   "execution_count": 58,
   "metadata": {},
   "outputs": [],
   "source": [
    "df = pd.read_csv('data/data-v18-32-23-14-06-21.csv', encoding= 'ISO-8859-8')\n",
    "df_new = df.copy()"
   ]
  },
  {
   "cell_type": "code",
   "execution_count": null,
   "metadata": {},
   "outputs": [],
   "source": []
  },
  {
   "cell_type": "code",
   "execution_count": 8,
   "metadata": {},
   "outputs": [
    {
     "data": {
      "text/plain": [
       "0        2010\n",
       "1        2010\n",
       "2        2010\n",
       "3        2010\n",
       "4        2010\n",
       "         ... \n",
       "12272    2020\n",
       "12273    2020\n",
       "12274    2020\n",
       "12275    2020\n",
       "12276    2020\n",
       "Name: DealYear, Length: 12277, dtype: int32"
      ]
     },
     "execution_count": 8,
     "metadata": {},
     "output_type": "execute_result"
    }
   ],
   "source": [
    "Yearsdf = df['DealYear'].astype(int)\n",
    "Yearsdf"
   ]
  },
  {
   "cell_type": "code",
   "execution_count": 9,
   "metadata": {},
   "outputs": [
    {
     "data": {
      "text/plain": [
       "Unnamed: 0       0\n",
       "Date             0\n",
       "City             0\n",
       "Street        2541\n",
       "Rooms            2\n",
       "Surface          0\n",
       "Floor         4113\n",
       "Price            6\n",
       "PricePerSq      46\n",
       "BuildYear        0\n",
       "DealYear         0\n",
       "DealMonth        0\n",
       "dtype: int64"
      ]
     },
     "execution_count": 9,
     "metadata": {},
     "output_type": "execute_result"
    }
   ],
   "source": [
    "df.isna().sum()"
   ]
  },
  {
   "cell_type": "code",
   "execution_count": 10,
   "metadata": {},
   "outputs": [
    {
     "data": {
      "text/plain": [
       "DealYear      0\n",
       "PricePerSq    7\n",
       "dtype: int64"
      ]
     },
     "execution_count": 10,
     "metadata": {},
     "output_type": "execute_result"
    }
   ],
   "source": [
    "df3 = df.loc[df['City'] == 'רחובות']\n",
    "df4 = df3[['DealYear','PricePerSq']];\n",
    "df4.isna().sum()\n",
    "\n"
   ]
  },
  {
   "cell_type": "code",
   "execution_count": 11,
   "metadata": {},
   "outputs": [
    {
     "name": "stdout",
     "output_type": "stream",
     "text": [
      "----\n"
     ]
    },
    {
     "data": {
      "text/plain": [
       "DealYear      0\n",
       "PricePerSq    0\n",
       "dtype: int64"
      ]
     },
     "execution_count": 11,
     "metadata": {},
     "output_type": "execute_result"
    }
   ],
   "source": [
    "df3 = df.loc[df['City'] == 'רחובות']\n",
    "df4 = df3[['DealYear','PricePerSq']];\n",
    "df4.isna().sum()\n",
    "print('----')\n",
    "df4 = df4.dropna()\n",
    "df4['DealYear'] = df4['DealYear'].astype(int)\n",
    "df4.isna().sum()\n"
   ]
  },
  {
   "cell_type": "code",
   "execution_count": 12,
   "metadata": {},
   "outputs": [],
   "source": [
    "df = df.drop_duplicates( keep=\"first\", inplace=False)"
   ]
  },
  {
   "cell_type": "code",
   "execution_count": 13,
   "metadata": {},
   "outputs": [
    {
     "data": {
      "text/html": [
       "<div>\n",
       "<style scoped>\n",
       "    .dataframe tbody tr th:only-of-type {\n",
       "        vertical-align: middle;\n",
       "    }\n",
       "\n",
       "    .dataframe tbody tr th {\n",
       "        vertical-align: top;\n",
       "    }\n",
       "\n",
       "    .dataframe thead th {\n",
       "        text-align: right;\n",
       "    }\n",
       "</style>\n",
       "<table border=\"1\" class=\"dataframe\">\n",
       "  <thead>\n",
       "    <tr style=\"text-align: right;\">\n",
       "      <th></th>\n",
       "      <th>DealYear</th>\n",
       "      <th>PricePerSq</th>\n",
       "    </tr>\n",
       "  </thead>\n",
       "  <tbody>\n",
       "    <tr>\n",
       "      <th>10957</th>\n",
       "      <td>2010</td>\n",
       "      <td>13,425</td>\n",
       "    </tr>\n",
       "    <tr>\n",
       "      <th>10958</th>\n",
       "      <td>2010</td>\n",
       "      <td>13,109</td>\n",
       "    </tr>\n",
       "    <tr>\n",
       "      <th>10959</th>\n",
       "      <td>2010</td>\n",
       "      <td>11,985</td>\n",
       "    </tr>\n",
       "    <tr>\n",
       "      <th>10960</th>\n",
       "      <td>2010</td>\n",
       "      <td>11,090</td>\n",
       "    </tr>\n",
       "    <tr>\n",
       "      <th>10961</th>\n",
       "      <td>2010</td>\n",
       "      <td>18,000</td>\n",
       "    </tr>\n",
       "    <tr>\n",
       "      <th>...</th>\n",
       "      <td>...</td>\n",
       "      <td>...</td>\n",
       "    </tr>\n",
       "    <tr>\n",
       "      <th>12272</th>\n",
       "      <td>2020</td>\n",
       "      <td>17,272</td>\n",
       "    </tr>\n",
       "    <tr>\n",
       "      <th>12273</th>\n",
       "      <td>2020</td>\n",
       "      <td>17,523</td>\n",
       "    </tr>\n",
       "    <tr>\n",
       "      <th>12274</th>\n",
       "      <td>2020</td>\n",
       "      <td>16,843</td>\n",
       "    </tr>\n",
       "    <tr>\n",
       "      <th>12275</th>\n",
       "      <td>2020</td>\n",
       "      <td>17,076</td>\n",
       "    </tr>\n",
       "    <tr>\n",
       "      <th>12276</th>\n",
       "      <td>2020</td>\n",
       "      <td>32,036</td>\n",
       "    </tr>\n",
       "  </tbody>\n",
       "</table>\n",
       "<p>1313 rows × 2 columns</p>\n",
       "</div>"
      ],
      "text/plain": [
       "       DealYear PricePerSq\n",
       "10957      2010     13,425\n",
       "10958      2010     13,109\n",
       "10959      2010     11,985\n",
       "10960      2010     11,090\n",
       "10961      2010     18,000\n",
       "...         ...        ...\n",
       "12272      2020     17,272\n",
       "12273      2020     17,523\n",
       "12274      2020     16,843\n",
       "12275      2020     17,076\n",
       "12276      2020     32,036\n",
       "\n",
       "[1313 rows x 2 columns]"
      ]
     },
     "execution_count": 13,
     "metadata": {},
     "output_type": "execute_result"
    }
   ],
   "source": [
    "df4\n",
    "\n"
   ]
  },
  {
   "cell_type": "code",
   "execution_count": 14,
   "metadata": {},
   "outputs": [
    {
     "data": {
      "text/plain": [
       "<AxesSubplot:>"
      ]
     },
     "execution_count": 14,
     "metadata": {},
     "output_type": "execute_result"
    },
    {
     "data": {
      "image/png": "[encoded data removed]",
      "text/plain": [
       "<Figure size 432x288 with 1 Axes>"
      ]
     },
     "metadata": {
      "needs_background": "light"
     },
     "output_type": "display_data"
    }
   ],
   "source": [
    "\n",
    "df4['PricePerSq'] = df4['PricePerSq'].astype(str).str.replace(',', '').astype(int)\n",
    "df4.dropna()\n",
    "copy1 = pd.DataFrame(df4)\n",
    "copy1.plot()\n"
   ]
  },
  {
   "cell_type": "code",
   "execution_count": 15,
   "metadata": {},
   "outputs": [
    {
     "data": {
      "text/plain": [
       "<AxesSubplot:xlabel='DealYear'>"
      ]
     },
     "execution_count": 15,
     "metadata": {},
     "output_type": "execute_result"
    },
    {
     "data": {
      "image/png": "[encoded data removed]",
      "text/plain": [
       "<Figure size 432x288 with 1 Axes>"
      ]
     },
     "metadata": {
      "needs_background": "light"
     },
     "output_type": "display_data"
    }
   ],
   "source": [
    "df4.plot(style = 'o',x='DealYear',y='PricePerSq')"
   ]
  },
  {
   "cell_type": "code",
   "execution_count": 16,
   "metadata": {},
   "outputs": [],
   "source": [
    "df6 = df4.copy()"
   ]
  },
  {
   "cell_type": "code",
   "execution_count": 17,
   "metadata": {},
   "outputs": [],
   "source": [
    "median = df6['PricePerSq'].median()\n",
    "std = df6['PricePerSq'].std()\n"
   ]
  },
  {
   "cell_type": "code",
   "execution_count": 18,
   "metadata": {},
   "outputs": [],
   "source": [
    "outliers = (df6['PricePerSq'] - median).abs() > std\n"
   ]
  },
  {
   "cell_type": "code",
   "execution_count": 19,
   "metadata": {},
   "outputs": [
    {
     "data": {
      "text/plain": [
       "<AxesSubplot:xlabel='DealYear'>"
      ]
     },
     "execution_count": 19,
     "metadata": {},
     "output_type": "execute_result"
    },
    {
     "data": {
      "image/png": "[encoded data removed]",
      "text/plain": [
       "<Figure size 432x288 with 1 Axes>"
      ]
     },
     "metadata": {
      "needs_background": "light"
     },
     "output_type": "display_data"
    }
   ],
   "source": [
    "copy2 = pd.DataFrame(df6)\n",
    "copy2.plot(style = 'o',x='DealYear',y='PricePerSq')"
   ]
  },
  {
   "cell_type": "code",
   "execution_count": null,
   "metadata": {},
   "outputs": [],
   "source": []
  },
  {
   "cell_type": "code",
   "execution_count": 20,
   "metadata": {},
   "outputs": [
    {
     "data": {
      "text/plain": [
       "<AxesSubplot:xlabel='DealYear'>"
      ]
     },
     "execution_count": 20,
     "metadata": {},
     "output_type": "execute_result"
    },
    {
     "data": {
      "image/png": "[encoded data removed]",
      "text/plain": [
       "<Figure size 432x288 with 1 Axes>"
      ]
     },
     "metadata": {
      "needs_background": "light"
     },
     "output_type": "display_data"
    }
   ],
   "source": [
    "df6[outliers] = np.nan\n",
    "df6['PricePerSq'].fillna(median, inplace=True)\n",
    "df6.plot(style = 'o',x='DealYear',y='PricePerSq')"
   ]
  },
  {
   "cell_type": "code",
   "execution_count": 21,
   "metadata": {},
   "outputs": [
    {
     "data": {
      "image/png": "[encoded data removed]",
      "text/plain": [
       "<Figure size 432x288 with 1 Axes>"
      ]
     },
     "metadata": {
      "needs_background": "light"
     },
     "output_type": "display_data"
    }
   ],
   "source": [
    "plt.boxplot(df4[\"PricePerSq\"])\n",
    "plt.show()"
   ]
  },
  {
   "cell_type": "code",
   "execution_count": 22,
   "metadata": {},
   "outputs": [
    {
     "data": {
      "image/png": "[encoded data removed]",
      "text/plain": [
       "<Figure size 432x288 with 1 Axes>"
      ]
     },
     "metadata": {
      "needs_background": "light"
     },
     "output_type": "display_data"
    }
   ],
   "source": [
    "plt.boxplot(df6[\"PricePerSq\"])\n",
    "plt.show()"
   ]
  },
  {
   "cell_type": "code",
   "execution_count": 23,
   "metadata": {},
   "outputs": [],
   "source": [
    "ts = df6.copy()\n"
   ]
  },
  {
   "cell_type": "code",
   "execution_count": 24,
   "metadata": {},
   "outputs": [
    {
     "data": {
      "text/plain": [
       "<AxesSubplot:xlabel='DealYear'>"
      ]
     },
     "execution_count": 24,
     "metadata": {},
     "output_type": "execute_result"
    },
    {
     "data": {
      "image/png": "[encoded data removed]",
      "text/plain": [
       "<Figure size 432x288 with 1 Axes>"
      ]
     },
     "metadata": {
      "needs_background": "light"
     },
     "output_type": "display_data"
    }
   ],
   "source": [
    "ts.plot.bar(x='DealYear',y='PricePerSq')"
   ]
  },
  {
   "cell_type": "code",
   "execution_count": 25,
   "metadata": {},
   "outputs": [
    {
     "data": {
      "text/plain": [
       "<AxesSubplot:xlabel='DealYear'>"
      ]
     },
     "execution_count": 25,
     "metadata": {},
     "output_type": "execute_result"
    },
    {
     "data": {
      "image/png": "[encoded data removed]",
      "text/plain": [
       "<Figure size 432x288 with 1 Axes>"
      ]
     },
     "metadata": {
      "needs_background": "light"
     },
     "output_type": "display_data"
    }
   ],
   "source": [
    "df4.plot(style = 'o',x='DealYear',y='PricePerSq')"
   ]
  },
  {
   "cell_type": "code",
   "execution_count": 26,
   "metadata": {},
   "outputs": [
    {
     "data": {
      "text/plain": [
       "<AxesSubplot:xlabel='DealYear'>"
      ]
     },
     "execution_count": 26,
     "metadata": {},
     "output_type": "execute_result"
    },
    {
     "data": {
      "image/png": "[encoded data removed]",
      "text/plain": [
       "<Figure size 432x288 with 1 Axes>"
      ]
     },
     "metadata": {
      "needs_background": "light"
     },
     "output_type": "display_data"
    }
   ],
   "source": [
    "df6.plot(style = 'o',x='DealYear',y='PricePerSq')"
   ]
  },
  {
   "cell_type": "code",
   "execution_count": 27,
   "metadata": {},
   "outputs": [
    {
     "data": {
      "text/plain": [
       "<AxesSubplot:xlabel='DealYear'>"
      ]
     },
     "execution_count": 27,
     "metadata": {},
     "output_type": "execute_result"
    },
    {
     "data": {
      "image/png": "[encoded data removed]",
      "text/plain": [
       "<Figure size 432x288 with 1 Axes>"
      ]
     },
     "metadata": {
      "needs_background": "light"
     },
     "output_type": "display_data"
    }
   ],
   "source": [
    "df4['PricePerSq'] = df4['PricePerSq'].astype(str).str.replace(',', '').astype(int)\n",
    "outliers = df4[df4['PricePerSq'] > df4['PricePerSq'].mean() + 3 * df4['PricePerSq'].std()]\n",
    "outliers.plot(style = 'o',x='DealYear',y='PricePerSq')"
   ]
  },
  {
   "cell_type": "code",
   "execution_count": 28,
   "metadata": {},
   "outputs": [
    {
     "data": {
      "text/plain": [
       "<AxesSubplot:xlabel='PricePerSq'>"
      ]
     },
     "execution_count": 28,
     "metadata": {},
     "output_type": "execute_result"
    },
    {
     "data": {
      "image/png": "[encoded data removed]",
      "text/plain": [
       "<Figure size 432x288 with 1 Axes>"
      ]
     },
     "metadata": {
      "needs_background": "light"
     },
     "output_type": "display_data"
    }
   ],
   "source": [
    "import seaborn as sns\n",
    "\n",
    "sns.boxplot(df4['PricePerSq'])\n"
   ]
  },
  {
   "cell_type": "code",
   "execution_count": 29,
   "metadata": {},
   "outputs": [
    {
     "name": "stdout",
     "output_type": "stream",
     "text": [
      "(array([ 96, 303], dtype=int64),)\n"
     ]
    }
   ],
   "source": [
    "\n",
    "print(np.where(df4['PricePerSq']>100000))\n"
   ]
  },
  {
   "cell_type": "code",
   "execution_count": 30,
   "metadata": {},
   "outputs": [
    {
     "data": {
      "text/plain": [
       "5280.0"
      ]
     },
     "execution_count": 30,
     "metadata": {},
     "output_type": "execute_result"
    }
   ],
   "source": [
    "Q1 = np.percentile(df4['PricePerSq'], 25, \n",
    "                   interpolation = 'midpoint') \n",
    "  \n",
    "Q3 = np.percentile(df4['PricePerSq'], 75,\n",
    "                   interpolation = 'midpoint') \n",
    "IQR = Q3 - Q1 \n",
    "IQR"
   ]
  },
  {
   "cell_type": "code",
   "execution_count": 31,
   "metadata": {},
   "outputs": [
    {
     "name": "stdout",
     "output_type": "stream",
     "text": [
      "Old Shape:  (1313, 2)\n",
      "DealYear         5.0\n",
      "PricePerSq    4020.0\n",
      "dtype: float64\n"
     ]
    }
   ],
   "source": [
    "  \n",
    "print(\"Old Shape: \", df4.shape) \n",
    "  \n",
    "Q1 = df6.quantile(0.25)\n",
    "Q3 = df6.quantile(0.75)\n",
    "IQR = Q3 - Q1\n",
    "print(IQR)"
   ]
  },
  {
   "cell_type": "code",
   "execution_count": 32,
   "metadata": {},
   "outputs": [
    {
     "data": {
      "image/png": "[encoded data removed]",
      "text/plain": [
       "<Figure size 432x288 with 1 Axes>"
      ]
     },
     "metadata": {
      "needs_background": "light"
     },
     "output_type": "display_data"
    }
   ],
   "source": [
    "plt.boxplot(df6[\"PricePerSq\"])\n",
    "plt.show()"
   ]
  },
  {
   "cell_type": "code",
   "execution_count": 33,
   "metadata": {},
   "outputs": [
    {
     "name": "stdout",
     "output_type": "stream",
     "text": [
      "(1224, 2)\n"
     ]
    },
    {
     "data": {
      "text/html": [
       "<div>\n",
       "<style scoped>\n",
       "    .dataframe tbody tr th:only-of-type {\n",
       "        vertical-align: middle;\n",
       "    }\n",
       "\n",
       "    .dataframe tbody tr th {\n",
       "        vertical-align: top;\n",
       "    }\n",
       "\n",
       "    .dataframe thead th {\n",
       "        text-align: right;\n",
       "    }\n",
       "</style>\n",
       "<table border=\"1\" class=\"dataframe\">\n",
       "  <thead>\n",
       "    <tr style=\"text-align: right;\">\n",
       "      <th></th>\n",
       "      <th>DealYear</th>\n",
       "      <th>PricePerSq</th>\n",
       "    </tr>\n",
       "  </thead>\n",
       "  <tbody>\n",
       "    <tr>\n",
       "      <th>count</th>\n",
       "      <td>1224.000000</td>\n",
       "      <td>1224.000000</td>\n",
       "    </tr>\n",
       "    <tr>\n",
       "      <th>mean</th>\n",
       "      <td>2014.941993</td>\n",
       "      <td>14931.848039</td>\n",
       "    </tr>\n",
       "    <tr>\n",
       "      <th>std</th>\n",
       "      <td>3.118914</td>\n",
       "      <td>3217.589395</td>\n",
       "    </tr>\n",
       "    <tr>\n",
       "      <th>min</th>\n",
       "      <td>2010.000000</td>\n",
       "      <td>6949.000000</td>\n",
       "    </tr>\n",
       "    <tr>\n",
       "      <th>25%</th>\n",
       "      <td>2012.000000</td>\n",
       "      <td>12461.000000</td>\n",
       "    </tr>\n",
       "    <tr>\n",
       "      <th>50%</th>\n",
       "      <td>2015.000000</td>\n",
       "      <td>14703.000000</td>\n",
       "    </tr>\n",
       "    <tr>\n",
       "      <th>75%</th>\n",
       "      <td>2018.000000</td>\n",
       "      <td>17324.500000</td>\n",
       "    </tr>\n",
       "    <tr>\n",
       "      <th>max</th>\n",
       "      <td>2020.000000</td>\n",
       "      <td>22794.000000</td>\n",
       "    </tr>\n",
       "  </tbody>\n",
       "</table>\n",
       "</div>"
      ],
      "text/plain": [
       "          DealYear    PricePerSq\n",
       "count  1224.000000   1224.000000\n",
       "mean   2014.941993  14931.848039\n",
       "std       3.118914   3217.589395\n",
       "min    2010.000000   6949.000000\n",
       "25%    2012.000000  12461.000000\n",
       "50%    2015.000000  14703.000000\n",
       "75%    2018.000000  17324.500000\n",
       "max    2020.000000  22794.000000"
      ]
     },
     "execution_count": 33,
     "metadata": {},
     "output_type": "execute_result"
    }
   ],
   "source": [
    "df_out = df4[~((df4 < (Q1 - 1.5 * IQR)) |(df4 > (Q3 + 1.5 * IQR))).any(axis=1)]\n",
    "print(df_out.shape)\n",
    "df_out.describe()"
   ]
  },
  {
   "cell_type": "code",
   "execution_count": 34,
   "metadata": {},
   "outputs": [
    {
     "data": {
      "image/png": "[encoded data removed]",
      "text/plain": [
       "<Figure size 432x288 with 1 Axes>"
      ]
     },
     "metadata": {
      "needs_background": "light"
     },
     "output_type": "display_data"
    }
   ],
   "source": [
    "plt.boxplot(df_out[\"PricePerSq\"])\n",
    "plt.show()"
   ]
  },
  {
   "cell_type": "code",
   "execution_count": 35,
   "metadata": {},
   "outputs": [
    {
     "ename": "AttributeError",
     "evalue": "'Series' object has no attribute 'DealYear'",
     "output_type": "error",
     "traceback": [
      "\u001b[1;31m---------------------------------------------------------------------------\u001b[0m",
      "\u001b[1;31mAttributeError\u001b[0m                            Traceback (most recent call last)",
      "\u001b[1;32m<ipython-input-35-8f63f97cf304>\u001b[0m in \u001b[0;36m<module>\u001b[1;34m\u001b[0m\n\u001b[1;32m----> 1\u001b[1;33m \u001b[0mdf_out\u001b[0m\u001b[1;33m.\u001b[0m\u001b[0mPricePerSq\u001b[0m\u001b[1;33m.\u001b[0m\u001b[0mDealYear\u001b[0m\u001b[1;33m.\u001b[0m\u001b[0mhist\u001b[0m\u001b[1;33m(\u001b[0m\u001b[1;33m)\u001b[0m\u001b[1;33m\u001b[0m\u001b[1;33m\u001b[0m\u001b[0m\n\u001b[0m",
      "\u001b[1;32m~\\anaconda3\\lib\\site-packages\\pandas\\core\\generic.py\u001b[0m in \u001b[0;36m__getattr__\u001b[1;34m(self, name)\u001b[0m\n\u001b[0;32m   5137\u001b[0m             \u001b[1;32mif\u001b[0m \u001b[0mself\u001b[0m\u001b[1;33m.\u001b[0m\u001b[0m_info_axis\u001b[0m\u001b[1;33m.\u001b[0m\u001b[0m_can_hold_identifiers_and_holds_name\u001b[0m\u001b[1;33m(\u001b[0m\u001b[0mname\u001b[0m\u001b[1;33m)\u001b[0m\u001b[1;33m:\u001b[0m\u001b[1;33m\u001b[0m\u001b[1;33m\u001b[0m\u001b[0m\n\u001b[0;32m   5138\u001b[0m                 \u001b[1;32mreturn\u001b[0m \u001b[0mself\u001b[0m\u001b[1;33m[\u001b[0m\u001b[0mname\u001b[0m\u001b[1;33m]\u001b[0m\u001b[1;33m\u001b[0m\u001b[1;33m\u001b[0m\u001b[0m\n\u001b[1;32m-> 5139\u001b[1;33m             \u001b[1;32mreturn\u001b[0m \u001b[0mobject\u001b[0m\u001b[1;33m.\u001b[0m\u001b[0m__getattribute__\u001b[0m\u001b[1;33m(\u001b[0m\u001b[0mself\u001b[0m\u001b[1;33m,\u001b[0m \u001b[0mname\u001b[0m\u001b[1;33m)\u001b[0m\u001b[1;33m\u001b[0m\u001b[1;33m\u001b[0m\u001b[0m\n\u001b[0m\u001b[0;32m   5140\u001b[0m \u001b[1;33m\u001b[0m\u001b[0m\n\u001b[0;32m   5141\u001b[0m     \u001b[1;32mdef\u001b[0m \u001b[0m__setattr__\u001b[0m\u001b[1;33m(\u001b[0m\u001b[0mself\u001b[0m\u001b[1;33m,\u001b[0m \u001b[0mname\u001b[0m\u001b[1;33m:\u001b[0m \u001b[0mstr\u001b[0m\u001b[1;33m,\u001b[0m \u001b[0mvalue\u001b[0m\u001b[1;33m)\u001b[0m \u001b[1;33m->\u001b[0m \u001b[1;32mNone\u001b[0m\u001b[1;33m:\u001b[0m\u001b[1;33m\u001b[0m\u001b[1;33m\u001b[0m\u001b[0m\n",
      "\u001b[1;31mAttributeError\u001b[0m: 'Series' object has no attribute 'DealYear'"
     ]
    }
   ],
   "source": [
    "df_out.PricePerSq.DealYear.hist()"
   ]
  },
  {
   "cell_type": "code",
   "execution_count": null,
   "metadata": {},
   "outputs": [],
   "source": [
    "df_out.plot(x=\"DealYear\", y=\"PricePerSq\");"
   ]
  },
  {
   "cell_type": "code",
   "execution_count": null,
   "metadata": {},
   "outputs": [],
   "source": [
    "df4['PricePerSq'] = df4['PricePerSq'].astype(str).str.replace(',', '').astype(int)\n",
    "\n",
    "df4.describe()\n"
   ]
  },
  {
   "cell_type": "code",
   "execution_count": null,
   "metadata": {},
   "outputs": [],
   "source": [
    "\n",
    "plt.figure(figsize=(6,4))\n",
    "sns.boxplot(df4['PricePerSq'])\n",
    "plt.show()"
   ]
  },
  {
   "cell_type": "code",
   "execution_count": null,
   "metadata": {},
   "outputs": [],
   "source": [
    "df4.plot(style = 'o',x='DealYear',y='PricePerSq')"
   ]
  },
  {
   "cell_type": "code",
   "execution_count": null,
   "metadata": {},
   "outputs": [],
   "source": [
    "print(\"Shape of data is: \", df4.shape)"
   ]
  },
  {
   "cell_type": "code",
   "execution_count": null,
   "metadata": {},
   "outputs": [],
   "source": [
    "def removeOutliers(data, col):\n",
    "    Q3 = np.quantile(data[col], 0.75)\n",
    "    Q1 = np.quantile(data[col], 0.25)\n",
    "    IQR = Q3 - Q1\n",
    "      \n",
    "    print(\"IQR value for column %s is: %s\" % (col, IQR))\n",
    "    global outlier_free_list\n",
    "    global filtered_data\n",
    "      \n",
    "    lower_range = Q1 - 1.5 * IQR\n",
    "    upper_range = Q3 + 1.5 * IQR\n",
    "    outlier_free_list = [x for x in data[col] if (\n",
    "        (x > lower_range) & (x < upper_range))]\n",
    "    filtered_data = data.loc[data[col].isin(outlier_free_list)]\n",
    "  \n",
    "  \n",
    "for i in ['PricePerSq']:\n",
    "    removeOutliers(df4, i)\n",
    "  \n",
    "# Assigning filtered data back to our orginal variable\n",
    "df4 = filtered_data\n",
    "print(\"Shape of data after outlier removal is: \", df4.shape)\n"
   ]
  },
  {
   "cell_type": "code",
   "execution_count": null,
   "metadata": {},
   "outputs": [],
   "source": [
    "plt.figure(figsize=(6,4))\n",
    "sns.boxplot(df4['PricePerSq'])\n",
    "plt.show()"
   ]
  },
  {
   "cell_type": "code",
   "execution_count": null,
   "metadata": {},
   "outputs": [],
   "source": []
  },
  {
   "cell_type": "code",
   "execution_count": null,
   "metadata": {},
   "outputs": [],
   "source": [
    "df4.plot.bar(x='DealYear', y='PricePerSq', rot=0)"
   ]
  },
  {
   "cell_type": "code",
   "execution_count": 54,
   "metadata": {},
   "outputs": [
    {
     "data": {
      "text/plain": [
       "<AxesSubplot:xlabel='DealYear'>"
      ]
     },
     "execution_count": 54,
     "metadata": {},
     "output_type": "execute_result"
    },
    {
     "data": {
      "image/png": "[encoded data removed]",
      "text/plain": [
       "<Figure size 432x288 with 1 Axes>"
      ]
     },
     "metadata": {
      "needs_background": "light"
     },
     "output_type": "display_data"
    }
   ],
   "source": [
    "df_new['DealYear'] = df_new['DealYear'].astype(int)\n",
    "df_new = df_new.dropna(subset = ['PricePerSq'])\n",
    "\n",
    "df_new['PricePerSq'] = df_new['PricePerSq'].astype(str).str.replace(',', '').astype(int)\n",
    "df_new['PricePerSq'] = pd.to_numeric(df_new['PricePerSq'])\n",
    "df_new.plot(style = 'o',x='DealYear',y='PricePerSq')"
   ]
  },
  {
   "cell_type": "code",
   "execution_count": 47,
   "metadata": {},
   "outputs": [
    {
     "data": {
      "text/plain": [
       "{'whiskers': [<matplotlib.lines.Line2D at 0x1d599e14fd0>,\n",
       "  <matplotlib.lines.Line2D at 0x1d599e07370>],\n",
       " 'caps': [<matplotlib.lines.Line2D at 0x1d599e076d0>,\n",
       "  <matplotlib.lines.Line2D at 0x1d599e07a30>],\n",
       " 'boxes': [<matplotlib.lines.Line2D at 0x1d599e14c70>],\n",
       " 'medians': [<matplotlib.lines.Line2D at 0x1d599e07d90>],\n",
       " 'fliers': [<matplotlib.lines.Line2D at 0x1d599dfb130>],\n",
       " 'means': []}"
      ]
     },
     "execution_count": 47,
     "metadata": {},
     "output_type": "execute_result"
    },
    {
     "data": {
      "image/png": "[encoded data removed]",
      "text/plain": [
       "<Figure size 432x288 with 1 Axes>"
      ]
     },
     "metadata": {
      "needs_background": "light"
     },
     "output_type": "display_data"
    }
   ],
   "source": [
    "plt.boxplot(df_new[\"PricePerSq\"])\n"
   ]
  },
  {
   "cell_type": "code",
   "execution_count": 48,
   "metadata": {},
   "outputs": [
    {
     "name": "stdout",
     "output_type": "stream",
     "text": [
      "IQR value for column PricePerSq is: 8206.5\n"
     ]
    }
   ],
   "source": [
    "def removeOutliers(data, col):\n",
    "    Q3 = np.quantile(data[col], 0.75)\n",
    "    Q1 = np.quantile(data[col], 0.25)\n",
    "    IQR = Q3 - Q1\n",
    "      \n",
    "    print(\"IQR value for column %s is: %s\" % (col, IQR))\n",
    "    global outlier_free_list\n",
    "    global filtered_data\n",
    "      \n",
    "    lower_range = Q1 - 1.5 * IQR\n",
    "    upper_range = Q3 + 1.5 * IQR\n",
    "    outlier_free_list = [x for x in data[col] if (\n",
    "        (x > lower_range) & (x < upper_range))]\n",
    "    filtered_data = data.loc[data[col].isin(outlier_free_list)]\n",
    "  \n",
    "  \n",
    "for i in ['PricePerSq']:\n",
    "    removeOutliers(df_new, i)"
   ]
  },
  {
   "cell_type": "code",
   "execution_count": 50,
   "metadata": {},
   "outputs": [
    {
     "data": {
      "text/plain": [
       "{'whiskers': [<matplotlib.lines.Line2D at 0x1d599eabf10>,\n",
       "  <matplotlib.lines.Line2D at 0x1d599eba2b0>],\n",
       " 'caps': [<matplotlib.lines.Line2D at 0x1d599eba610>,\n",
       "  <matplotlib.lines.Line2D at 0x1d599eba970>],\n",
       " 'boxes': [<matplotlib.lines.Line2D at 0x1d599eabbb0>],\n",
       " 'medians': [<matplotlib.lines.Line2D at 0x1d599ebacd0>],\n",
       " 'fliers': [<matplotlib.lines.Line2D at 0x1d599ec5070>],\n",
       " 'means': []}"
      ]
     },
     "execution_count": 50,
     "metadata": {},
     "output_type": "execute_result"
    },
    {
     "data": {
      "image/png": "[encoded data removed]",
      "text/plain": [
       "<Figure size 432x288 with 1 Axes>"
      ]
     },
     "metadata": {
      "needs_background": "light"
     },
     "output_type": "display_data"
    }
   ],
   "source": [
    "plt.boxplot(filtered_data[\"PricePerSq\"])\n"
   ]
  },
  {
   "cell_type": "code",
   "execution_count": 51,
   "metadata": {},
   "outputs": [
    {
     "data": {
      "text/plain": [
       "<AxesSubplot:xlabel='DealYear'>"
      ]
     },
     "execution_count": 51,
     "metadata": {},
     "output_type": "execute_result"
    },
    {
     "data": {
      "image/png": "[encoded data removed]",
      "text/plain": [
       "<Figure size 432x288 with 1 Axes>"
      ]
     },
     "metadata": {
      "needs_background": "light"
     },
     "output_type": "display_data"
    }
   ],
   "source": [
    "filtered_data.plot(style = 'o',x='DealYear',y='PricePerSq')"
   ]
  },
  {
   "cell_type": "code",
   "execution_count": 55,
   "metadata": {},
   "outputs": [
    {
     "data": {
      "text/plain": [
       "<AxesSubplot:xlabel='DealYear'>"
      ]
     },
     "execution_count": 55,
     "metadata": {},
     "output_type": "execute_result"
    },
    {
     "data": {
      "image/png": "[encoded data removed]",
      "text/plain": [
       "<Figure size 432x288 with 1 Axes>"
      ]
     },
     "metadata": {
      "needs_background": "light"
     },
     "output_type": "display_data"
    }
   ],
   "source": [
    "filtered_data.plot.bar(x='DealYear', y='PricePerSq', rot=0)"
   ]
  },
  {
   "cell_type": "code",
   "execution_count": 59,
   "metadata": {},
   "outputs": [],
   "source": [
    "def remove_outlier(df_in, col_name):\n",
    "    q1 = df_in[col_name].quantile(0.25)\n",
    "    q3 = df_in[col_name].quantile(0.75)\n",
    "    iqr = q3-q1 #Interquartile range\n",
    "    fence_low  = q1-1.5*iqr\n",
    "    fence_high = q3+1.5*iqr\n",
    "    df_out = df_in.loc[(df_in[col_name] > fence_low) & (df_in[col_name] < fence_high)]\n",
    "    return df_out"
   ]
  },
  {
   "cell_type": "code",
   "execution_count": 78,
   "metadata": {},
   "outputs": [],
   "source": [
    "df2 = df_new.copy()\n",
    "df2 = df2.loc[df['City'] == 'רחובות']\n"
   ]
  },
  {
   "cell_type": "code",
   "execution_count": 88,
   "metadata": {},
   "outputs": [
    {
     "data": {
      "text/plain": [
       "{'whiskers': [<matplotlib.lines.Line2D at 0x1d5e02d3fa0>,\n",
       "  <matplotlib.lines.Line2D at 0x1d5e02e1340>],\n",
       " 'caps': [<matplotlib.lines.Line2D at 0x1d5e02e16a0>,\n",
       "  <matplotlib.lines.Line2D at 0x1d5e02e1a00>],\n",
       " 'boxes': [<matplotlib.lines.Line2D at 0x1d5e02d3c10>],\n",
       " 'medians': [<matplotlib.lines.Line2D at 0x1d5e02e1d60>],\n",
       " 'fliers': [<matplotlib.lines.Line2D at 0x1d5e02ee100>],\n",
       " 'means': []}"
      ]
     },
     "execution_count": 88,
     "metadata": {},
     "output_type": "execute_result"
    },
    {
     "data": {
      "image/png": "[encoded data removed]",
      "text/plain": [
       "<Figure size 432x288 with 1 Axes>"
      ]
     },
     "metadata": {
      "needs_background": "light"
     },
     "output_type": "display_data"
    }
   ],
   "source": [
    "df2 = df2.dropna(subset = ['PricePerSq'])\n",
    "\n",
    "df2['PricePerSq'] = df2['PricePerSq'].astype(str).str.replace(',', '').astype(int)\n",
    "\n",
    "plt.boxplot(df2[\"PricePerSq\"])\n"
   ]
  },
  {
   "cell_type": "code",
   "execution_count": 89,
   "metadata": {},
   "outputs": [
    {
     "data": {
      "text/plain": [
       "{'whiskers': [<matplotlib.lines.Line2D at 0x1d5e0336880>,\n",
       "  <matplotlib.lines.Line2D at 0x1d5e0336be0>],\n",
       " 'caps': [<matplotlib.lines.Line2D at 0x1d5e0336f40>,\n",
       "  <matplotlib.lines.Line2D at 0x1d5e03412e0>],\n",
       " 'boxes': [<matplotlib.lines.Line2D at 0x1d5e0336520>],\n",
       " 'medians': [<matplotlib.lines.Line2D at 0x1d5e0341640>],\n",
       " 'fliers': [<matplotlib.lines.Line2D at 0x1d5e03419a0>],\n",
       " 'means': []}"
      ]
     },
     "execution_count": 89,
     "metadata": {},
     "output_type": "execute_result"
    },
    {
     "data": {
      "image/png": "[encoded data removed]",
      "text/plain": [
       "<Figure size 432x288 with 1 Axes>"
      ]
     },
     "metadata": {
      "needs_background": "light"
     },
     "output_type": "display_data"
    }
   ],
   "source": [
    "df2 = remove_outlier(df2,'PricePerSq')\n",
    "plt.boxplot(df2[\"PricePerSq\"])\n"
   ]
  },
  {
   "cell_type": "code",
   "execution_count": 91,
   "metadata": {},
   "outputs": [
    {
     "data": {
      "text/plain": [
       "<AxesSubplot:xlabel='DealYear'>"
      ]
     },
     "execution_count": 91,
     "metadata": {},
     "output_type": "execute_result"
    },
    {
     "data": {
      "image/png": "[encoded data removed]",
      "text/plain": [
       "<Figure size 432x288 with 1 Axes>"
      ]
     },
     "metadata": {
      "needs_background": "light"
     },
     "output_type": "display_data"
    }
   ],
   "source": [
    "df2['DealYear'] = df2['DealYear'].astype(int)\n",
    "\n",
    "df2.plot.bar(x='DealYear', y='PricePerSq', rot=0)"
   ]
  },
  {
   "cell_type": "code",
   "execution_count": 87,
   "metadata": {},
   "outputs": [
    {
     "data": {
      "text/html": [
       "<div>\n",
       "<style scoped>\n",
       "    .dataframe tbody tr th:only-of-type {\n",
       "        vertical-align: middle;\n",
       "    }\n",
       "\n",
       "    .dataframe tbody tr th {\n",
       "        vertical-align: top;\n",
       "    }\n",
       "\n",
       "    .dataframe thead th {\n",
       "        text-align: right;\n",
       "    }\n",
       "</style>\n",
       "<table border=\"1\" class=\"dataframe\">\n",
       "  <thead>\n",
       "    <tr style=\"text-align: right;\">\n",
       "      <th></th>\n",
       "      <th>Unnamed: 0</th>\n",
       "      <th>Rooms</th>\n",
       "      <th>Surface</th>\n",
       "      <th>Floor</th>\n",
       "      <th>PricePerSq</th>\n",
       "      <th>BuildYear</th>\n",
       "      <th>DealYear</th>\n",
       "      <th>DealMonth</th>\n",
       "    </tr>\n",
       "  </thead>\n",
       "  <tbody>\n",
       "    <tr>\n",
       "      <th>count</th>\n",
       "      <td>1263.000000</td>\n",
       "      <td>1263.000000</td>\n",
       "      <td>1263.000000</td>\n",
       "      <td>856.000000</td>\n",
       "      <td>1263.000000</td>\n",
       "      <td>1263.000000</td>\n",
       "      <td>1263.000000</td>\n",
       "      <td>1263.000000</td>\n",
       "    </tr>\n",
       "    <tr>\n",
       "      <th>mean</th>\n",
       "      <td>11614.402217</td>\n",
       "      <td>4.182898</td>\n",
       "      <td>105.052257</td>\n",
       "      <td>4.994159</td>\n",
       "      <td>15025.468725</td>\n",
       "      <td>1999.752969</td>\n",
       "      <td>2014.983373</td>\n",
       "      <td>6.511481</td>\n",
       "    </tr>\n",
       "    <tr>\n",
       "      <th>std</th>\n",
       "      <td>378.049131</td>\n",
       "      <td>0.908993</td>\n",
       "      <td>38.618543</td>\n",
       "      <td>4.048676</td>\n",
       "      <td>3547.561431</td>\n",
       "      <td>19.298821</td>\n",
       "      <td>3.135939</td>\n",
       "      <td>3.442485</td>\n",
       "    </tr>\n",
       "    <tr>\n",
       "      <th>min</th>\n",
       "      <td>10957.000000</td>\n",
       "      <td>1.000000</td>\n",
       "      <td>1.000000</td>\n",
       "      <td>1.000000</td>\n",
       "      <td>4601.000000</td>\n",
       "      <td>1900.000000</td>\n",
       "      <td>2010.000000</td>\n",
       "      <td>1.000000</td>\n",
       "    </tr>\n",
       "    <tr>\n",
       "      <th>25%</th>\n",
       "      <td>11289.500000</td>\n",
       "      <td>3.500000</td>\n",
       "      <td>86.000000</td>\n",
       "      <td>2.000000</td>\n",
       "      <td>12436.000000</td>\n",
       "      <td>1988.000000</td>\n",
       "      <td>2012.000000</td>\n",
       "      <td>4.000000</td>\n",
       "    </tr>\n",
       "    <tr>\n",
       "      <th>50%</th>\n",
       "      <td>11613.000000</td>\n",
       "      <td>4.000000</td>\n",
       "      <td>103.000000</td>\n",
       "      <td>4.000000</td>\n",
       "      <td>14727.000000</td>\n",
       "      <td>2010.000000</td>\n",
       "      <td>2015.000000</td>\n",
       "      <td>7.000000</td>\n",
       "    </tr>\n",
       "    <tr>\n",
       "      <th>75%</th>\n",
       "      <td>11940.500000</td>\n",
       "      <td>5.000000</td>\n",
       "      <td>123.000000</td>\n",
       "      <td>7.000000</td>\n",
       "      <td>17490.000000</td>\n",
       "      <td>2014.000000</td>\n",
       "      <td>2018.000000</td>\n",
       "      <td>9.500000</td>\n",
       "    </tr>\n",
       "    <tr>\n",
       "      <th>max</th>\n",
       "      <td>12275.000000</td>\n",
       "      <td>7.000000</td>\n",
       "      <td>600.000000</td>\n",
       "      <td>24.000000</td>\n",
       "      <td>25600.000000</td>\n",
       "      <td>2021.000000</td>\n",
       "      <td>2020.000000</td>\n",
       "      <td>12.000000</td>\n",
       "    </tr>\n",
       "  </tbody>\n",
       "</table>\n",
       "</div>"
      ],
      "text/plain": [
       "         Unnamed: 0        Rooms      Surface       Floor    PricePerSq  \\\n",
       "count   1263.000000  1263.000000  1263.000000  856.000000   1263.000000   \n",
       "mean   11614.402217     4.182898   105.052257    4.994159  15025.468725   \n",
       "std      378.049131     0.908993    38.618543    4.048676   3547.561431   \n",
       "min    10957.000000     1.000000     1.000000    1.000000   4601.000000   \n",
       "25%    11289.500000     3.500000    86.000000    2.000000  12436.000000   \n",
       "50%    11613.000000     4.000000   103.000000    4.000000  14727.000000   \n",
       "75%    11940.500000     5.000000   123.000000    7.000000  17490.000000   \n",
       "max    12275.000000     7.000000   600.000000   24.000000  25600.000000   \n",
       "\n",
       "         BuildYear     DealYear    DealMonth  \n",
       "count  1263.000000  1263.000000  1263.000000  \n",
       "mean   1999.752969  2014.983373     6.511481  \n",
       "std      19.298821     3.135939     3.442485  \n",
       "min    1900.000000  2010.000000     1.000000  \n",
       "25%    1988.000000  2012.000000     4.000000  \n",
       "50%    2010.000000  2015.000000     7.000000  \n",
       "75%    2014.000000  2018.000000     9.500000  \n",
       "max    2021.000000  2020.000000    12.000000  "
      ]
     },
     "execution_count": 87,
     "metadata": {},
     "output_type": "execute_result"
    }
   ],
   "source": [
    "df2_new.describe()"
   ]
  },
  {
   "cell_type": "code",
   "execution_count": 120,
   "metadata": {},
   "outputs": [
    {
     "data": {
      "text/plain": [
       "[<matplotlib.lines.Line2D at 0x1d5e545c1c0>]"
      ]
     },
     "execution_count": 120,
     "metadata": {},
     "output_type": "execute_result"
    },
    {
     "data": {
      "image/png": "[encoded data removed]",
      "text/plain": [
       "<Figure size 432x288 with 1 Axes>"
      ]
     },
     "metadata": {
      "needs_background": "light"
     },
     "output_type": "display_data"
    }
   ],
   "source": [
    "df2_new['DealYear'] = df2_new['DealYear'].astype(int)\n",
    "\n",
    "plt.plot(df2_new[\"DealYear\"], df2_new[\"PricePerSq\"])"
   ]
  },
  {
   "cell_type": "code",
   "execution_count": 75,
   "metadata": {},
   "outputs": [
    {
     "data": {
      "text/html": [
       "<div>\n",
       "<style scoped>\n",
       "    .dataframe tbody tr th:only-of-type {\n",
       "        vertical-align: middle;\n",
       "    }\n",
       "\n",
       "    .dataframe tbody tr th {\n",
       "        vertical-align: top;\n",
       "    }\n",
       "\n",
       "    .dataframe thead th {\n",
       "        text-align: right;\n",
       "    }\n",
       "</style>\n",
       "<table border=\"1\" class=\"dataframe\">\n",
       "  <thead>\n",
       "    <tr style=\"text-align: right;\">\n",
       "      <th></th>\n",
       "      <th>Unnamed: 0</th>\n",
       "      <th>Rooms</th>\n",
       "      <th>Surface</th>\n",
       "      <th>Floor</th>\n",
       "      <th>PricePerSq</th>\n",
       "      <th>BuildYear</th>\n",
       "      <th>DealYear</th>\n",
       "      <th>DealMonth</th>\n",
       "    </tr>\n",
       "  </thead>\n",
       "  <tbody>\n",
       "    <tr>\n",
       "      <th>count</th>\n",
       "      <td>11444.000000</td>\n",
       "      <td>11442.000000</td>\n",
       "      <td>11444.000000</td>\n",
       "      <td>7674.000000</td>\n",
       "      <td>11444.000000</td>\n",
       "      <td>11444.000000</td>\n",
       "      <td>11444.000000</td>\n",
       "      <td>11444.00000</td>\n",
       "    </tr>\n",
       "    <tr>\n",
       "      <th>mean</th>\n",
       "      <td>6309.789584</td>\n",
       "      <td>3.731909</td>\n",
       "      <td>91.146103</td>\n",
       "      <td>4.538311</td>\n",
       "      <td>18476.373820</td>\n",
       "      <td>1989.682366</td>\n",
       "      <td>2014.825848</td>\n",
       "      <td>6.53338</td>\n",
       "    </tr>\n",
       "    <tr>\n",
       "      <th>std</th>\n",
       "      <td>3526.381086</td>\n",
       "      <td>1.075137</td>\n",
       "      <td>36.618854</td>\n",
       "      <td>4.716838</td>\n",
       "      <td>5541.644678</td>\n",
       "      <td>24.043580</td>\n",
       "      <td>3.170832</td>\n",
       "      <td>3.49227</td>\n",
       "    </tr>\n",
       "    <tr>\n",
       "      <th>min</th>\n",
       "      <td>0.000000</td>\n",
       "      <td>1.000000</td>\n",
       "      <td>1.000000</td>\n",
       "      <td>1.000000</td>\n",
       "      <td>2400.000000</td>\n",
       "      <td>1900.000000</td>\n",
       "      <td>2010.000000</td>\n",
       "      <td>1.00000</td>\n",
       "    </tr>\n",
       "    <tr>\n",
       "      <th>25%</th>\n",
       "      <td>3433.750000</td>\n",
       "      <td>3.000000</td>\n",
       "      <td>65.000000</td>\n",
       "      <td>2.000000</td>\n",
       "      <td>14414.000000</td>\n",
       "      <td>1970.000000</td>\n",
       "      <td>2012.000000</td>\n",
       "      <td>3.00000</td>\n",
       "    </tr>\n",
       "    <tr>\n",
       "      <th>50%</th>\n",
       "      <td>6389.500000</td>\n",
       "      <td>4.000000</td>\n",
       "      <td>88.000000</td>\n",
       "      <td>3.000000</td>\n",
       "      <td>17829.500000</td>\n",
       "      <td>1995.000000</td>\n",
       "      <td>2015.000000</td>\n",
       "      <td>7.00000</td>\n",
       "    </tr>\n",
       "    <tr>\n",
       "      <th>75%</th>\n",
       "      <td>9324.250000</td>\n",
       "      <td>4.500000</td>\n",
       "      <td>112.000000</td>\n",
       "      <td>5.000000</td>\n",
       "      <td>21764.000000</td>\n",
       "      <td>2013.000000</td>\n",
       "      <td>2018.000000</td>\n",
       "      <td>10.00000</td>\n",
       "    </tr>\n",
       "    <tr>\n",
       "      <th>max</th>\n",
       "      <td>12276.000000</td>\n",
       "      <td>10.000000</td>\n",
       "      <td>600.000000</td>\n",
       "      <td>60.000000</td>\n",
       "      <td>35086.000000</td>\n",
       "      <td>2021.000000</td>\n",
       "      <td>2020.000000</td>\n",
       "      <td>12.00000</td>\n",
       "    </tr>\n",
       "  </tbody>\n",
       "</table>\n",
       "</div>"
      ],
      "text/plain": [
       "         Unnamed: 0         Rooms       Surface        Floor    PricePerSq  \\\n",
       "count  11444.000000  11442.000000  11444.000000  7674.000000  11444.000000   \n",
       "mean    6309.789584      3.731909     91.146103     4.538311  18476.373820   \n",
       "std     3526.381086      1.075137     36.618854     4.716838   5541.644678   \n",
       "min        0.000000      1.000000      1.000000     1.000000   2400.000000   \n",
       "25%     3433.750000      3.000000     65.000000     2.000000  14414.000000   \n",
       "50%     6389.500000      4.000000     88.000000     3.000000  17829.500000   \n",
       "75%     9324.250000      4.500000    112.000000     5.000000  21764.000000   \n",
       "max    12276.000000     10.000000    600.000000    60.000000  35086.000000   \n",
       "\n",
       "          BuildYear      DealYear    DealMonth  \n",
       "count  11444.000000  11444.000000  11444.00000  \n",
       "mean    1989.682366   2014.825848      6.53338  \n",
       "std       24.043580      3.170832      3.49227  \n",
       "min     1900.000000   2010.000000      1.00000  \n",
       "25%     1970.000000   2012.000000      3.00000  \n",
       "50%     1995.000000   2015.000000      7.00000  \n",
       "75%     2013.000000   2018.000000     10.00000  \n",
       "max     2021.000000   2020.000000     12.00000  "
      ]
     },
     "execution_count": 75,
     "metadata": {},
     "output_type": "execute_result"
    }
   ],
   "source": [
    "df2_new.describe()"
   ]
  },
  {
   "cell_type": "code",
   "execution_count": 77,
   "metadata": {
    "scrolled": true
   },
   "outputs": [
    {
     "data": {
      "text/html": [
       "<div>\n",
       "<style scoped>\n",
       "    .dataframe tbody tr th:only-of-type {\n",
       "        vertical-align: middle;\n",
       "    }\n",
       "\n",
       "    .dataframe tbody tr th {\n",
       "        vertical-align: top;\n",
       "    }\n",
       "\n",
       "    .dataframe thead th {\n",
       "        text-align: right;\n",
       "    }\n",
       "</style>\n",
       "<table border=\"1\" class=\"dataframe\">\n",
       "  <thead>\n",
       "    <tr style=\"text-align: right;\">\n",
       "      <th></th>\n",
       "      <th>Unnamed: 0</th>\n",
       "      <th>Rooms</th>\n",
       "      <th>Surface</th>\n",
       "      <th>Floor</th>\n",
       "      <th>PricePerSq</th>\n",
       "      <th>BuildYear</th>\n",
       "      <th>DealYear</th>\n",
       "      <th>DealMonth</th>\n",
       "    </tr>\n",
       "  </thead>\n",
       "  <tbody>\n",
       "    <tr>\n",
       "      <th>count</th>\n",
       "      <td>12231.000000</td>\n",
       "      <td>12229.000000</td>\n",
       "      <td>12231.000000</td>\n",
       "      <td>8132.000000</td>\n",
       "      <td>12231.000000</td>\n",
       "      <td>12231.00000</td>\n",
       "      <td>12231.000000</td>\n",
       "      <td>12231.000000</td>\n",
       "    </tr>\n",
       "    <tr>\n",
       "      <th>mean</th>\n",
       "      <td>6140.022811</td>\n",
       "      <td>3.701693</td>\n",
       "      <td>90.426212</td>\n",
       "      <td>4.590261</td>\n",
       "      <td>20068.116017</td>\n",
       "      <td>1989.15894</td>\n",
       "      <td>2014.915297</td>\n",
       "      <td>6.540839</td>\n",
       "    </tr>\n",
       "    <tr>\n",
       "      <th>std</th>\n",
       "      <td>3542.666138</td>\n",
       "      <td>1.095134</td>\n",
       "      <td>37.838890</td>\n",
       "      <td>4.955822</td>\n",
       "      <td>9608.742566</td>\n",
       "      <td>24.45509</td>\n",
       "      <td>3.182668</td>\n",
       "      <td>3.488040</td>\n",
       "    </tr>\n",
       "    <tr>\n",
       "      <th>min</th>\n",
       "      <td>0.000000</td>\n",
       "      <td>1.000000</td>\n",
       "      <td>1.000000</td>\n",
       "      <td>1.000000</td>\n",
       "      <td>205.000000</td>\n",
       "      <td>1900.00000</td>\n",
       "      <td>2010.000000</td>\n",
       "      <td>1.000000</td>\n",
       "    </tr>\n",
       "    <tr>\n",
       "      <th>25%</th>\n",
       "      <td>3074.500000</td>\n",
       "      <td>3.000000</td>\n",
       "      <td>64.000000</td>\n",
       "      <td>2.000000</td>\n",
       "      <td>14576.000000</td>\n",
       "      <td>1970.00000</td>\n",
       "      <td>2012.000000</td>\n",
       "      <td>3.000000</td>\n",
       "    </tr>\n",
       "    <tr>\n",
       "      <th>50%</th>\n",
       "      <td>6138.000000</td>\n",
       "      <td>4.000000</td>\n",
       "      <td>87.000000</td>\n",
       "      <td>3.000000</td>\n",
       "      <td>18200.000000</td>\n",
       "      <td>1994.00000</td>\n",
       "      <td>2015.000000</td>\n",
       "      <td>7.000000</td>\n",
       "    </tr>\n",
       "    <tr>\n",
       "      <th>75%</th>\n",
       "      <td>9206.500000</td>\n",
       "      <td>4.500000</td>\n",
       "      <td>111.000000</td>\n",
       "      <td>5.000000</td>\n",
       "      <td>22782.500000</td>\n",
       "      <td>2013.00000</td>\n",
       "      <td>2018.000000</td>\n",
       "      <td>10.000000</td>\n",
       "    </tr>\n",
       "    <tr>\n",
       "      <th>max</th>\n",
       "      <td>12276.000000</td>\n",
       "      <td>10.000000</td>\n",
       "      <td>600.000000</td>\n",
       "      <td>60.000000</td>\n",
       "      <td>145000.000000</td>\n",
       "      <td>2021.00000</td>\n",
       "      <td>2020.000000</td>\n",
       "      <td>12.000000</td>\n",
       "    </tr>\n",
       "  </tbody>\n",
       "</table>\n",
       "</div>"
      ],
      "text/plain": [
       "         Unnamed: 0         Rooms       Surface        Floor     PricePerSq  \\\n",
       "count  12231.000000  12229.000000  12231.000000  8132.000000   12231.000000   \n",
       "mean    6140.022811      3.701693     90.426212     4.590261   20068.116017   \n",
       "std     3542.666138      1.095134     37.838890     4.955822    9608.742566   \n",
       "min        0.000000      1.000000      1.000000     1.000000     205.000000   \n",
       "25%     3074.500000      3.000000     64.000000     2.000000   14576.000000   \n",
       "50%     6138.000000      4.000000     87.000000     3.000000   18200.000000   \n",
       "75%     9206.500000      4.500000    111.000000     5.000000   22782.500000   \n",
       "max    12276.000000     10.000000    600.000000    60.000000  145000.000000   \n",
       "\n",
       "         BuildYear      DealYear     DealMonth  \n",
       "count  12231.00000  12231.000000  12231.000000  \n",
       "mean    1989.15894   2014.915297      6.540839  \n",
       "std       24.45509      3.182668      3.488040  \n",
       "min     1900.00000   2010.000000      1.000000  \n",
       "25%     1970.00000   2012.000000      3.000000  \n",
       "50%     1994.00000   2015.000000      7.000000  \n",
       "75%     2013.00000   2018.000000     10.000000  \n",
       "max     2021.00000   2020.000000     12.000000  "
      ]
     },
     "execution_count": 77,
     "metadata": {},
     "output_type": "execute_result"
    }
   ],
   "source": [
    "df2.describe()"
   ]
  },
  {
   "cell_type": "code",
   "execution_count": 118,
   "metadata": {},
   "outputs": [
    {
     "ename": "AttributeError",
     "evalue": "'AxesSubplot' object has no attribute 'kde'",
     "output_type": "error",
     "traceback": [
      "\u001b[1;31m---------------------------------------------------------------------------\u001b[0m",
      "\u001b[1;31mAttributeError\u001b[0m                            Traceback (most recent call last)",
      "\u001b[1;32m<ipython-input-118-5a8bd22355c6>\u001b[0m in \u001b[0;36m<module>\u001b[1;34m\u001b[0m\n\u001b[0;32m      1\u001b[0m \u001b[0mtest\u001b[0m \u001b[1;33m=\u001b[0m \u001b[0mdf2_new\u001b[0m\u001b[1;33m[\u001b[0m\u001b[1;34m'PricePerSq'\u001b[0m\u001b[1;33m]\u001b[0m\u001b[1;33m\u001b[0m\u001b[1;33m\u001b[0m\u001b[0m\n\u001b[1;32m----> 2\u001b[1;33m \u001b[0max\u001b[0m \u001b[1;33m=\u001b[0m \u001b[0mtest\u001b[0m\u001b[1;33m.\u001b[0m\u001b[0mplot\u001b[0m\u001b[1;33m(\u001b[0m\u001b[1;33m)\u001b[0m\u001b[1;33m.\u001b[0m\u001b[0mkde\u001b[0m\u001b[1;33m(\u001b[0m\u001b[1;33m)\u001b[0m\u001b[1;33m\u001b[0m\u001b[1;33m\u001b[0m\u001b[0m\n\u001b[0m\u001b[0;32m      3\u001b[0m \u001b[0mtest\u001b[0m\u001b[1;33m.\u001b[0m\u001b[0mdescribe\u001b[0m\u001b[1;33m(\u001b[0m\u001b[1;33m)\u001b[0m\u001b[1;33m\u001b[0m\u001b[1;33m\u001b[0m\u001b[0m\n",
      "\u001b[1;31mAttributeError\u001b[0m: 'AxesSubplot' object has no attribute 'kde'"
     ]
    },
    {
     "data": {
      "image/png": "[encoded data removed]",
      "text/plain": [
       "<Figure size 432x288 with 1 Axes>"
      ]
     },
     "metadata": {
      "needs_background": "light"
     },
     "output_type": "display_data"
    }
   ],
   "source": [
    "test = df2_new['PricePerSq']\n",
    "ax = test.plot().kde()\n",
    "test.describe()"
   ]
  },
  {
   "cell_type": "code",
   "execution_count": 149,
   "metadata": {},
   "outputs": [],
   "source": [
    "import seaborn as sns\n",
    "sns.set_theme(style=\"darkgrid\")\n"
   ]
  },
  {
   "cell_type": "code",
   "execution_count": 133,
   "metadata": {},
   "outputs": [
    {
     "data": {
      "text/plain": [
       "<AxesSubplot:xlabel='DealYear', ylabel='PricePerSq'>"
      ]
     },
     "execution_count": 133,
     "metadata": {},
     "output_type": "execute_result"
    },
    {
     "data": {
      "image/png": "[encoded data removed]",
      "text/plain": [
       "<Figure size 432x288 with 1 Axes>"
      ]
     },
     "metadata": {},
     "output_type": "display_data"
    }
   ],
   "source": [
    "sns.lineplot(x=\"DealYear\", y=\"PricePerSq\",data=df2_new)\n"
   ]
  },
  {
   "cell_type": "code",
   "execution_count": 128,
   "metadata": {},
   "outputs": [
    {
     "data": {
      "text/html": [
       "<div>\n",
       "<style scoped>\n",
       "    .dataframe tbody tr th:only-of-type {\n",
       "        vertical-align: middle;\n",
       "    }\n",
       "\n",
       "    .dataframe tbody tr th {\n",
       "        vertical-align: top;\n",
       "    }\n",
       "\n",
       "    .dataframe thead th {\n",
       "        text-align: right;\n",
       "    }\n",
       "</style>\n",
       "<table border=\"1\" class=\"dataframe\">\n",
       "  <thead>\n",
       "    <tr style=\"text-align: right;\">\n",
       "      <th></th>\n",
       "      <th>Unnamed: 0</th>\n",
       "      <th>Date</th>\n",
       "      <th>City</th>\n",
       "      <th>Street</th>\n",
       "      <th>Rooms</th>\n",
       "      <th>Surface</th>\n",
       "      <th>Floor</th>\n",
       "      <th>Price</th>\n",
       "      <th>PricePerSq</th>\n",
       "      <th>BuildYear</th>\n",
       "      <th>DealYear</th>\n",
       "      <th>DealMonth</th>\n",
       "    </tr>\n",
       "  </thead>\n",
       "  <tbody>\n",
       "    <tr>\n",
       "      <th>10957</th>\n",
       "      <td>10957</td>\n",
       "      <td>31/12/2010</td>\n",
       "      <td>רחובות</td>\n",
       "      <td>סמילנסקי 12</td>\n",
       "      <td>4.0</td>\n",
       "      <td>108</td>\n",
       "      <td>4.0</td>\n",
       "      <td>1,450,000</td>\n",
       "      <td>13425</td>\n",
       "      <td>2010</td>\n",
       "      <td>2010</td>\n",
       "      <td>12.0</td>\n",
       "    </tr>\n",
       "    <tr>\n",
       "      <th>10958</th>\n",
       "      <td>10958</td>\n",
       "      <td>31/12/2010</td>\n",
       "      <td>רחובות</td>\n",
       "      <td>שדרות מקס ואמפרו שיין 13</td>\n",
       "      <td>5.0</td>\n",
       "      <td>128</td>\n",
       "      <td>15.0</td>\n",
       "      <td>1,678,000</td>\n",
       "      <td>13109</td>\n",
       "      <td>2010</td>\n",
       "      <td>2010</td>\n",
       "      <td>12.0</td>\n",
       "    </tr>\n",
       "    <tr>\n",
       "      <th>10959</th>\n",
       "      <td>10959</td>\n",
       "      <td>31/12/2010</td>\n",
       "      <td>רחובות</td>\n",
       "      <td>אזורי רחובות 13</td>\n",
       "      <td>4.0</td>\n",
       "      <td>102</td>\n",
       "      <td>7.0</td>\n",
       "      <td>1,222,500</td>\n",
       "      <td>11985</td>\n",
       "      <td>2012</td>\n",
       "      <td>2010</td>\n",
       "      <td>12.0</td>\n",
       "    </tr>\n",
       "    <tr>\n",
       "      <th>10960</th>\n",
       "      <td>10960</td>\n",
       "      <td>31/12/2010</td>\n",
       "      <td>רחובות</td>\n",
       "      <td>NaN</td>\n",
       "      <td>4.0</td>\n",
       "      <td>100</td>\n",
       "      <td>5.0</td>\n",
       "      <td>1,109,000</td>\n",
       "      <td>11090</td>\n",
       "      <td>2010</td>\n",
       "      <td>2010</td>\n",
       "      <td>12.0</td>\n",
       "    </tr>\n",
       "    <tr>\n",
       "      <th>10961</th>\n",
       "      <td>10961</td>\n",
       "      <td>31/12/2010</td>\n",
       "      <td>רחובות</td>\n",
       "      <td>גורדון א.ד. 99</td>\n",
       "      <td>4.0</td>\n",
       "      <td>85</td>\n",
       "      <td>15.0</td>\n",
       "      <td>1,530,000</td>\n",
       "      <td>18000</td>\n",
       "      <td>2010</td>\n",
       "      <td>2010</td>\n",
       "      <td>12.0</td>\n",
       "    </tr>\n",
       "  </tbody>\n",
       "</table>\n",
       "</div>"
      ],
      "text/plain": [
       "       Unnamed: 0        Date    City                    Street  Rooms  \\\n",
       "10957       10957  31/12/2010  רחובות               סמילנסקי 12    4.0   \n",
       "10958       10958  31/12/2010  רחובות  שדרות מקס ואמפרו שיין 13    5.0   \n",
       "10959       10959  31/12/2010  רחובות           אזורי רחובות 13    4.0   \n",
       "10960       10960  31/12/2010  רחובות                       NaN    4.0   \n",
       "10961       10961  31/12/2010  רחובות            גורדון א.ד. 99    4.0   \n",
       "\n",
       "       Surface  Floor      Price  PricePerSq  BuildYear  DealYear  DealMonth  \n",
       "10957      108    4.0  1,450,000       13425       2010      2010       12.0  \n",
       "10958      128   15.0  1,678,000       13109       2010      2010       12.0  \n",
       "10959      102    7.0  1,222,500       11985       2012      2010       12.0  \n",
       "10960      100    5.0  1,109,000       11090       2010      2010       12.0  \n",
       "10961       85   15.0  1,530,000       18000       2010      2010       12.0  "
      ]
     },
     "execution_count": 128,
     "metadata": {},
     "output_type": "execute_result"
    }
   ],
   "source": [
    "df2_new.head()"
   ]
  },
  {
   "cell_type": "code",
   "execution_count": 141,
   "metadata": {},
   "outputs": [
    {
     "name": "stdout",
     "output_type": "stream",
     "text": [
      "<class 'pandas.core.frame.DataFrame'>\n",
      "RangeIndex: 12277 entries, 0 to 12276\n",
      "Data columns (total 12 columns):\n",
      " #   Column      Non-Null Count  Dtype  \n",
      "---  ------      --------------  -----  \n",
      " 0   Unnamed: 0  12277 non-null  int64  \n",
      " 1   Date        12277 non-null  object \n",
      " 2   City        12277 non-null  object \n",
      " 3   Street      9736 non-null   object \n",
      " 4   Rooms       12275 non-null  float64\n",
      " 5   Surface     12277 non-null  int64  \n",
      " 6   Floor       8164 non-null   float64\n",
      " 7   Price       12271 non-null  object \n",
      " 8   PricePerSq  12231 non-null  object \n",
      " 9   BuildYear   12277 non-null  int64  \n",
      " 10  DealYear    12277 non-null  float64\n",
      " 11  DealMonth   12277 non-null  float64\n",
      "dtypes: float64(4), int64(3), object(5)\n",
      "memory usage: 1.1+ MB\n"
     ]
    }
   ],
   "source": [
    "allDf = df.copy()\n",
    "allDf.info()"
   ]
  },
  {
   "cell_type": "code",
   "execution_count": 143,
   "metadata": {},
   "outputs": [],
   "source": [
    "allDf = allDf.dropna(subset = ['PricePerSq'])\n",
    "\n",
    "allDf['PricePerSq'] = allDf['PricePerSq'].astype(str).str.replace(',', '').astype(int)\n"
   ]
  },
  {
   "cell_type": "code",
   "execution_count": 144,
   "metadata": {},
   "outputs": [
    {
     "name": "stdout",
     "output_type": "stream",
     "text": [
      "<class 'pandas.core.frame.DataFrame'>\n",
      "Int64Index: 12231 entries, 0 to 12276\n",
      "Data columns (total 12 columns):\n",
      " #   Column      Non-Null Count  Dtype  \n",
      "---  ------      --------------  -----  \n",
      " 0   Unnamed: 0  12231 non-null  int64  \n",
      " 1   Date        12231 non-null  object \n",
      " 2   City        12231 non-null  object \n",
      " 3   Street      9699 non-null   object \n",
      " 4   Rooms       12229 non-null  float64\n",
      " 5   Surface     12231 non-null  int64  \n",
      " 6   Floor       8132 non-null   float64\n",
      " 7   Price       12231 non-null  object \n",
      " 8   PricePerSq  12231 non-null  int32  \n",
      " 9   BuildYear   12231 non-null  int64  \n",
      " 10  DealYear    12231 non-null  float64\n",
      " 11  DealMonth   12231 non-null  float64\n",
      "dtypes: float64(4), int32(1), int64(3), object(4)\n",
      "memory usage: 1.2+ MB\n"
     ]
    }
   ],
   "source": [
    "allDf.info()"
   ]
  },
  {
   "cell_type": "code",
   "execution_count": 145,
   "metadata": {},
   "outputs": [],
   "source": [
    "allDf = remove_outlier(allDf,'PricePerSq')"
   ]
  },
  {
   "cell_type": "code",
   "execution_count": 151,
   "metadata": {},
   "outputs": [
    {
     "data": {
      "text/plain": [
       "<AxesSubplot:xlabel='DealYear', ylabel='PricePerSq'>"
      ]
     },
     "execution_count": 151,
     "metadata": {},
     "output_type": "execute_result"
    },
    {
     "data": {
      "image/png": "[encoded data removed]",
      "text/plain": [
       "<Figure size 432x288 with 1 Axes>"
      ]
     },
     "metadata": {},
     "output_type": "display_data"
    }
   ],
   "source": [
    "sns.lineplot(x=\"DealYear\", y=\"PricePerSq\", data=allDf)\n"
   ]
  },
  {
   "cell_type": "code",
   "execution_count": 153,
   "metadata": {},
   "outputs": [
    {
     "data": {
      "text/plain": [
       "<AxesSubplot:xlabel='DealYear', ylabel='PricePerSq'>"
      ]
     },
     "execution_count": 153,
     "metadata": {},
     "output_type": "execute_result"
    },
    {
     "data": {
      "image/png": "[encoded data removed]",
      "text/plain": [
       "<Figure size 432x288 with 1 Axes>"
      ]
     },
     "metadata": {},
     "output_type": "display_data"
    }
   ],
   "source": [
    "df_batyam = allDf.loc[allDf['City'] == 'בת ים']\n",
    "sns.lineplot(x=\"DealYear\", y=\"PricePerSq\", data=df_batyam)\n"
   ]
  },
  {
   "cell_type": "code",
   "execution_count": null,
   "metadata": {},
   "outputs": [],
   "source": []
  }
 ],
 "metadata": {
  "kernelspec": {
   "display_name": "Python 3",
   "language": "python",
   "name": "python3"
  },
  "language_info": {
   "codemirror_mode": {
    "name": "ipython",
    "version": 3
   },
   "file_extension": ".py",
   "mimetype": "text/x-python",
   "name": "python",
   "nbconvert_exporter": "python",
   "pygments_lexer": "ipython3",
   "version": "3.8.5"
  }
 },
 "nbformat": 4,
 "nbformat_minor": 4
}
