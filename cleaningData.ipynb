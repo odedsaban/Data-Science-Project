{
 "cells": [
  {
   "cell_type": "code",
   "execution_count": 2,
   "metadata": {},
   "outputs": [],
   "source": [
    "import numpy as np\n",
    "import pandas as pd\n",
    "import matplotlib.pyplot as plt\n",
    "import seaborn as sns\n",
    "import matplotlib as mpl\n",
    "import matplotlib.pyplot as plt\n",
    "%matplotlib inline\n",
    "import time\n"
   ]
  },
  {
   "cell_type": "code",
   "execution_count": 3,
   "metadata": {},
   "outputs": [],
   "source": [
    "data_file_name = 'data-v18-21-29-17-06-21'\n",
    "df_basic = pd.read_csv('data/'+ data_file_name +'.csv', encoding= 'ISO-8859-8')\n"
   ]
  },
  {
   "cell_type": "code",
   "execution_count": 4,
   "metadata": {},
   "outputs": [],
   "source": [
    "def remove_outlier(df_in, col_name):\n",
    "    q1 = df_in[col_name].quantile(0.25)\n",
    "    q3 = df_in[col_name].quantile(0.75)\n",
    "    iqr = q3-q1 #Interquartile range\n",
    "    fence_low  = q1-1.5*iqr\n",
    "    fence_high = q3+1.5*iqr\n",
    "    df_out = df_in.loc[(df_in[col_name] > fence_low) & (df_in[col_name] < fence_high)]\n",
    "    return df_out\n"
   ]
  },
  {
   "cell_type": "code",
   "execution_count": 5,
   "metadata": {},
   "outputs": [],
   "source": [
    "def remove_nan_rows(data,col):\n",
    "    data = data.dropna(subset = ['PricePerSq'])\n",
    "    return data"
   ]
  },
  {
   "cell_type": "code",
   "execution_count": 6,
   "metadata": {},
   "outputs": [
    {
     "name": "stdout",
     "output_type": "stream",
     "text": [
      "<class 'pandas.core.frame.DataFrame'>\n",
      "RangeIndex: 37667 entries, 0 to 37666\n",
      "Data columns (total 12 columns):\n",
      " #   Column      Non-Null Count  Dtype  \n",
      "---  ------      --------------  -----  \n",
      " 0   Unnamed: 0  37667 non-null  int64  \n",
      " 1   Date        37667 non-null  object \n",
      " 2   City        37667 non-null  object \n",
      " 3   Street      28604 non-null  object \n",
      " 4   Rooms       37658 non-null  float64\n",
      " 5   Surface     37667 non-null  int64  \n",
      " 6   Floor       24278 non-null  float64\n",
      " 7   Price       37640 non-null  object \n",
      " 8   PricePerSq  37501 non-null  object \n",
      " 9   BuildYear   37666 non-null  float64\n",
      " 10  DealYear    37667 non-null  float64\n",
      " 11  DealMonth   37667 non-null  float64\n",
      "dtypes: float64(5), int64(2), object(5)\n",
      "memory usage: 3.4+ MB\n"
     ]
    }
   ],
   "source": [
    "df_basic.info()"
   ]
  },
  {
   "cell_type": "code",
   "execution_count": 61,
   "metadata": {},
   "outputs": [],
   "source": [
    "df_basic = remove_nan_rows(df_basic,'PricePerSq')\n",
    "\n",
    "#handle columns types\n",
    "df_basic['PricePerSq'] = df_basic['PricePerSq'].astype(str).str.replace(',', '').astype(int)\n",
    "df_basic['DealYear'] = df_basic['DealYear'].astype(int)\n",
    "df_basic['Price'] = df_basic['Price'].astype(str).str.replace(',', '').astype(int)\n",
    "\n",
    "cities = df_basic.City.unique()\n",
    "df_clear= pd.DataFrame({'Date': [],'City':[],'Street': [],'Rooms':[],'Surface':[],'Floor':[],'Price':[],'PricePerSq':[],'BuildYear': [],'DealYear': [],'DealMonth': []})\n",
    "\n",
    "for city in cities:\n",
    "    df_temp = df_basic.loc[df_basic['City'] == city]\n",
    "    df_temp = remove_outlier(df_temp,'PricePerSq')\n",
    "    df_clear = pd.concat([df_clear,df_temp],ignore_index=True)\n",
    "df_basic['PricePerSq'] = df_basic['PricePerSq'].astype(str).str.replace(',', '').astype(int)\n",
    "\n",
    "fileName = data_file_name + '_cleaned'\n",
    "df_clear.to_csv('data/'+ fileName + '.csv', encoding = \"ISO-8859-8\")\n"
   ]
  },
  {
   "cell_type": "code",
   "execution_count": 62,
   "metadata": {},
   "outputs": [
    {
     "name": "stdout",
     "output_type": "stream",
     "text": [
      "<class 'pandas.core.frame.DataFrame'>\n",
      "Int64Index: 37501 entries, 0 to 37666\n",
      "Data columns (total 12 columns):\n",
      " #   Column      Non-Null Count  Dtype  \n",
      "---  ------      --------------  -----  \n",
      " 0   Unnamed: 0  37501 non-null  int64  \n",
      " 1   Date        37501 non-null  object \n",
      " 2   City        37501 non-null  object \n",
      " 3   Street      28486 non-null  object \n",
      " 4   Rooms       37492 non-null  float64\n",
      " 5   Surface     37501 non-null  int64  \n",
      " 6   Floor       24173 non-null  float64\n",
      " 7   Price       37501 non-null  int32  \n",
      " 8   PricePerSq  37501 non-null  int32  \n",
      " 9   BuildYear   37500 non-null  float64\n",
      " 10  DealYear    37501 non-null  int32  \n",
      " 11  DealMonth   37501 non-null  float64\n",
      "dtypes: float64(4), int32(3), int64(2), object(3)\n",
      "memory usage: 3.3+ MB\n"
     ]
    }
   ],
   "source": [
    "df_basic.info()"
   ]
  },
  {
   "cell_type": "code",
   "execution_count": 11,
   "metadata": {},
   "outputs": [
    {
     "name": "stdout",
     "output_type": "stream",
     "text": [
      "<class 'pandas.core.frame.DataFrame'>\n",
      "RangeIndex: 36227 entries, 0 to 36226\n",
      "Data columns (total 12 columns):\n",
      " #   Column      Non-Null Count  Dtype  \n",
      "---  ------      --------------  -----  \n",
      " 0   Date        36227 non-null  object \n",
      " 1   City        36227 non-null  object \n",
      " 2   Street      27537 non-null  object \n",
      " 3   Rooms       36221 non-null  float64\n",
      " 4   Surface     36227 non-null  float64\n",
      " 5   Floor       23574 non-null  float64\n",
      " 6   Price       36227 non-null  float64\n",
      " 7   PricePerSq  36227 non-null  float64\n",
      " 8   BuildYear   36227 non-null  float64\n",
      " 9   DealYear    36227 non-null  float64\n",
      " 10  DealMonth   36227 non-null  float64\n",
      " 11  Unnamed: 0  36227 non-null  float64\n",
      "dtypes: float64(9), object(3)\n",
      "memory usage: 3.3+ MB\n"
     ]
    }
   ],
   "source": [
    "df_clear.info()"
   ]
  },
  {
   "cell_type": "code",
   "execution_count": 12,
   "metadata": {},
   "outputs": [
    {
     "data": {
      "image/png": "[encoded data removed]",
      "text/plain": [
       "<Figure size 432x288 with 1 Axes>"
      ]
     },
     "metadata": {
      "needs_background": "light"
     },
     "output_type": "display_data"
    }
   ],
   "source": [
    "plt.boxplot(df_basic.loc[df_basic['City'] == 'holon'][\"PricePerSq\"])\n",
    "plt.show()"
   ]
  },
  {
   "cell_type": "code",
   "execution_count": 13,
   "metadata": {},
   "outputs": [
    {
     "data": {
      "image/png": "[encoded data removed]",
      "text/plain": [
       "<Figure size 432x288 with 1 Axes>"
      ]
     },
     "metadata": {
      "needs_background": "light"
     },
     "output_type": "display_data"
    }
   ],
   "source": [
    "df_test = df_clear.loc[df_clear['City'] == 'holon'][\"PricePerSq\"]\n",
    "plt.boxplot(df_test)\n",
    "plt.show()\n"
   ]
  },
  {
   "cell_type": "code",
   "execution_count": null,
   "metadata": {},
   "outputs": [],
   "source": []
  },
  {
   "cell_type": "code",
   "execution_count": null,
   "metadata": {},
   "outputs": [],
   "source": [
    " "
   ]
  },
  {
   "cell_type": "code",
   "execution_count": null,
   "metadata": {},
   "outputs": [],
   "source": []
  },
  {
   "cell_type": "code",
   "execution_count": null,
   "metadata": {},
   "outputs": [],
   "source": []
  },
  {
   "cell_type": "code",
   "execution_count": null,
   "metadata": {},
   "outputs": [],
   "source": []
  },
  {
   "cell_type": "code",
   "execution_count": null,
   "metadata": {},
   "outputs": [],
   "source": []
  }
 ],
 "metadata": {
  "kernelspec": {
   "display_name": "Python 3",
   "language": "python",
   "name": "python3"
  },
  "language_info": {
   "codemirror_mode": {
    "name": "ipython",
    "version": 3
   },
   "file_extension": ".py",
   "mimetype": "text/x-python",
   "name": "python",
   "nbconvert_exporter": "python",
   "pygments_lexer": "ipython3",
   "version": "3.8.5"
  }
 },
 "nbformat": 4,
 "nbformat_minor": 4
}
